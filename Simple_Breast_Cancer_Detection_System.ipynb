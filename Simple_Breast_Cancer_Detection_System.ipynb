{
  "nbformat": 4,
  "nbformat_minor": 0,
  "metadata": {
    "colab": {
      "provenance": []
    },
    "kernelspec": {
      "name": "python3",
      "display_name": "Python 3"
    }
  },
  "cells": [
    {
      "metadata": {
        "id": "IU7buwHl0kqY"
      },
      "cell_type": "markdown",
      "source": [
        "**Phase 0 - Data Preparation**"
      ]
    },
    {
      "metadata": {
        "id": "F44L-zXW1h_u"
      },
      "cell_type": "markdown",
      "source": [
        "**Import The Necessary Library**"
      ]
    },
    {
      "metadata": {
        "id": "HlAbyAhV1hkM"
      },
      "cell_type": "code",
      "source": [
        "import numpy as np\n",
        "import matplotlib.pyplot as plt\n",
        "import pandas as pd\n",
        "\n",
        "from sklearn.datasets import load_breast_cancer\n"
      ],
      "execution_count": null,
      "outputs": []
    },
    {
      "metadata": {
        "id": "K0QzaX4020Yu"
      },
      "cell_type": "markdown",
      "source": [
        "**Import The Breast Cancer Dataset From The SKLearn Library**"
      ]
    },
    {
      "metadata": {
        "id": "2b0fcrdY1Nob"
      },
      "cell_type": "code",
      "source": [
        "data = load_breast_cancer()"
      ],
      "execution_count": null,
      "outputs": []
    },
    {
      "metadata": {
        "id": "3Pn61Ubo36PU"
      },
      "cell_type": "markdown",
      "source": [
        "**Convert The SkLearn Bunch Object To Pandas DataFrame**"
      ]
    },
    {
      "metadata": {
        "id": "XUGRAiCV35ap"
      },
      "cell_type": "code",
      "source": [
        "dataset = pd.DataFrame(data.data, data.target, columns = data.feature_names)\n",
        "dataset['target'] = data.target"
      ],
      "execution_count": null,
      "outputs": []
    },
    {
      "metadata": {
        "id": "VPX-vIVbVgEZ",
        "colab": {
          "base_uri": "https://localhost:8080/",
          "height": 287
        },
        "outputId": "e08b3515-5f4d-4334-f1d1-e9eb3d9ae881"
      },
      "cell_type": "code",
      "source": [
        "dataset.tail()"
      ],
      "execution_count": null,
      "outputs": [
        {
          "output_type": "execute_result",
          "data": {
            "text/html": [
              "<div>\n",
              "<style scoped>\n",
              "    .dataframe tbody tr th:only-of-type {\n",
              "        vertical-align: middle;\n",
              "    }\n",
              "\n",
              "    .dataframe tbody tr th {\n",
              "        vertical-align: top;\n",
              "    }\n",
              "\n",
              "    .dataframe thead th {\n",
              "        text-align: right;\n",
              "    }\n",
              "</style>\n",
              "<table border=\"1\" class=\"dataframe\">\n",
              "  <thead>\n",
              "    <tr style=\"text-align: right;\">\n",
              "      <th></th>\n",
              "      <th>mean radius</th>\n",
              "      <th>mean texture</th>\n",
              "      <th>mean perimeter</th>\n",
              "      <th>mean area</th>\n",
              "      <th>mean smoothness</th>\n",
              "      <th>mean compactness</th>\n",
              "      <th>mean concavity</th>\n",
              "      <th>mean concave points</th>\n",
              "      <th>mean symmetry</th>\n",
              "      <th>mean fractal dimension</th>\n",
              "      <th>...</th>\n",
              "      <th>worst texture</th>\n",
              "      <th>worst perimeter</th>\n",
              "      <th>worst area</th>\n",
              "      <th>worst smoothness</th>\n",
              "      <th>worst compactness</th>\n",
              "      <th>worst concavity</th>\n",
              "      <th>worst concave points</th>\n",
              "      <th>worst symmetry</th>\n",
              "      <th>worst fractal dimension</th>\n",
              "      <th>target</th>\n",
              "    </tr>\n",
              "  </thead>\n",
              "  <tbody>\n",
              "    <tr>\n",
              "      <th>0</th>\n",
              "      <td>21.56</td>\n",
              "      <td>22.39</td>\n",
              "      <td>142.00</td>\n",
              "      <td>1479.0</td>\n",
              "      <td>0.11100</td>\n",
              "      <td>0.11590</td>\n",
              "      <td>0.24390</td>\n",
              "      <td>0.13890</td>\n",
              "      <td>0.1726</td>\n",
              "      <td>0.05623</td>\n",
              "      <td>...</td>\n",
              "      <td>26.40</td>\n",
              "      <td>166.10</td>\n",
              "      <td>2027.0</td>\n",
              "      <td>0.14100</td>\n",
              "      <td>0.21130</td>\n",
              "      <td>0.4107</td>\n",
              "      <td>0.2216</td>\n",
              "      <td>0.2060</td>\n",
              "      <td>0.07115</td>\n",
              "      <td>0</td>\n",
              "    </tr>\n",
              "    <tr>\n",
              "      <th>0</th>\n",
              "      <td>20.13</td>\n",
              "      <td>28.25</td>\n",
              "      <td>131.20</td>\n",
              "      <td>1261.0</td>\n",
              "      <td>0.09780</td>\n",
              "      <td>0.10340</td>\n",
              "      <td>0.14400</td>\n",
              "      <td>0.09791</td>\n",
              "      <td>0.1752</td>\n",
              "      <td>0.05533</td>\n",
              "      <td>...</td>\n",
              "      <td>38.25</td>\n",
              "      <td>155.00</td>\n",
              "      <td>1731.0</td>\n",
              "      <td>0.11660</td>\n",
              "      <td>0.19220</td>\n",
              "      <td>0.3215</td>\n",
              "      <td>0.1628</td>\n",
              "      <td>0.2572</td>\n",
              "      <td>0.06637</td>\n",
              "      <td>0</td>\n",
              "    </tr>\n",
              "    <tr>\n",
              "      <th>0</th>\n",
              "      <td>16.60</td>\n",
              "      <td>28.08</td>\n",
              "      <td>108.30</td>\n",
              "      <td>858.1</td>\n",
              "      <td>0.08455</td>\n",
              "      <td>0.10230</td>\n",
              "      <td>0.09251</td>\n",
              "      <td>0.05302</td>\n",
              "      <td>0.1590</td>\n",
              "      <td>0.05648</td>\n",
              "      <td>...</td>\n",
              "      <td>34.12</td>\n",
              "      <td>126.70</td>\n",
              "      <td>1124.0</td>\n",
              "      <td>0.11390</td>\n",
              "      <td>0.30940</td>\n",
              "      <td>0.3403</td>\n",
              "      <td>0.1418</td>\n",
              "      <td>0.2218</td>\n",
              "      <td>0.07820</td>\n",
              "      <td>0</td>\n",
              "    </tr>\n",
              "    <tr>\n",
              "      <th>0</th>\n",
              "      <td>20.60</td>\n",
              "      <td>29.33</td>\n",
              "      <td>140.10</td>\n",
              "      <td>1265.0</td>\n",
              "      <td>0.11780</td>\n",
              "      <td>0.27700</td>\n",
              "      <td>0.35140</td>\n",
              "      <td>0.15200</td>\n",
              "      <td>0.2397</td>\n",
              "      <td>0.07016</td>\n",
              "      <td>...</td>\n",
              "      <td>39.42</td>\n",
              "      <td>184.60</td>\n",
              "      <td>1821.0</td>\n",
              "      <td>0.16500</td>\n",
              "      <td>0.86810</td>\n",
              "      <td>0.9387</td>\n",
              "      <td>0.2650</td>\n",
              "      <td>0.4087</td>\n",
              "      <td>0.12400</td>\n",
              "      <td>0</td>\n",
              "    </tr>\n",
              "    <tr>\n",
              "      <th>1</th>\n",
              "      <td>7.76</td>\n",
              "      <td>24.54</td>\n",
              "      <td>47.92</td>\n",
              "      <td>181.0</td>\n",
              "      <td>0.05263</td>\n",
              "      <td>0.04362</td>\n",
              "      <td>0.00000</td>\n",
              "      <td>0.00000</td>\n",
              "      <td>0.1587</td>\n",
              "      <td>0.05884</td>\n",
              "      <td>...</td>\n",
              "      <td>30.37</td>\n",
              "      <td>59.16</td>\n",
              "      <td>268.6</td>\n",
              "      <td>0.08996</td>\n",
              "      <td>0.06444</td>\n",
              "      <td>0.0000</td>\n",
              "      <td>0.0000</td>\n",
              "      <td>0.2871</td>\n",
              "      <td>0.07039</td>\n",
              "      <td>1</td>\n",
              "    </tr>\n",
              "  </tbody>\n",
              "</table>\n",
              "<p>5 rows × 31 columns</p>\n",
              "</div>"
            ],
            "text/plain": [
              "   mean radius  mean texture  mean perimeter  mean area  mean smoothness  \\\n",
              "0        21.56         22.39          142.00     1479.0          0.11100   \n",
              "0        20.13         28.25          131.20     1261.0          0.09780   \n",
              "0        16.60         28.08          108.30      858.1          0.08455   \n",
              "0        20.60         29.33          140.10     1265.0          0.11780   \n",
              "1         7.76         24.54           47.92      181.0          0.05263   \n",
              "\n",
              "   mean compactness  mean concavity  mean concave points  mean symmetry  \\\n",
              "0           0.11590         0.24390              0.13890         0.1726   \n",
              "0           0.10340         0.14400              0.09791         0.1752   \n",
              "0           0.10230         0.09251              0.05302         0.1590   \n",
              "0           0.27700         0.35140              0.15200         0.2397   \n",
              "1           0.04362         0.00000              0.00000         0.1587   \n",
              "\n",
              "   mean fractal dimension   ...    worst texture  worst perimeter  worst area  \\\n",
              "0                 0.05623   ...            26.40           166.10      2027.0   \n",
              "0                 0.05533   ...            38.25           155.00      1731.0   \n",
              "0                 0.05648   ...            34.12           126.70      1124.0   \n",
              "0                 0.07016   ...            39.42           184.60      1821.0   \n",
              "1                 0.05884   ...            30.37            59.16       268.6   \n",
              "\n",
              "   worst smoothness  worst compactness  worst concavity  worst concave points  \\\n",
              "0           0.14100            0.21130           0.4107                0.2216   \n",
              "0           0.11660            0.19220           0.3215                0.1628   \n",
              "0           0.11390            0.30940           0.3403                0.1418   \n",
              "0           0.16500            0.86810           0.9387                0.2650   \n",
              "1           0.08996            0.06444           0.0000                0.0000   \n",
              "\n",
              "   worst symmetry  worst fractal dimension  target  \n",
              "0          0.2060                  0.07115       0  \n",
              "0          0.2572                  0.06637       0  \n",
              "0          0.2218                  0.07820       0  \n",
              "0          0.4087                  0.12400       0  \n",
              "1          0.2871                  0.07039       1  \n",
              "\n",
              "[5 rows x 31 columns]"
            ]
          },
          "metadata": {
            "tags": []
          },
          "execution_count": 6
        }
      ]
    },
    {
      "metadata": {
        "id": "dK5KXmXv3PsL"
      },
      "cell_type": "markdown",
      "source": [
        "**Data Exploration**"
      ]
    },
    {
      "metadata": {
        "id": "n0nE42rg1fa6"
      },
      "cell_type": "code",
      "source": [
        "X = dataset.iloc[:, 0:29].values\n",
        "Y = dataset.iloc[:, 30].values"
      ],
      "execution_count": null,
      "outputs": []
    },
    {
      "metadata": {
        "id": "-FN0XQo43qQq",
        "outputId": "85b3a3fd-b228-4d01-da45-9b5fd45fa85d",
        "colab": {
          "base_uri": "https://localhost:8080/",
          "height": 34
        }
      },
      "cell_type": "code",
      "source": [
        "print('Breast Cancer Dataset Dimensions: {}'.format(dataset.shape))"
      ],
      "execution_count": null,
      "outputs": [
        {
          "output_type": "stream",
          "text": [
            "Breast Cancer Dataset Dimensions: (569, 31)\n"
          ],
          "name": "stdout"
        }
      ]
    },
    {
      "metadata": {
        "id": "APFPJdysL4oR"
      },
      "cell_type": "markdown",
      "source": [
        "**The Number Of Patients Who Have Cancer Versus Those Who Do Not Have Cancer**"
      ]
    },
    {
      "metadata": {
        "id": "sT-iAPe77o8q",
        "outputId": "c42ff06c-63d6-45f6-d72f-9106b64d4bb5",
        "colab": {
          "base_uri": "https://localhost:8080/",
          "height": 68
        }
      },
      "cell_type": "code",
      "source": [
        "dataset['target'].value_counts()"
      ],
      "execution_count": null,
      "outputs": [
        {
          "output_type": "execute_result",
          "data": {
            "text/plain": [
              "1    357\n",
              "0    212\n",
              "Name: target, dtype: int64"
            ]
          },
          "metadata": {
            "tags": []
          },
          "execution_count": 48
        }
      ]
    },
    {
      "metadata": {
        "id": "0WwWYMwRaCim"
      },
      "cell_type": "markdown",
      "source": [
        "**1 - Benign; 0 - Malignant**"
      ]
    },
    {
      "metadata": {
        "id": "rtCt1GiWU4GG"
      },
      "cell_type": "markdown",
      "source": [
        "**Visualizing The Data**"
      ]
    },
    {
      "metadata": {
        "id": "c1Tg9BhoLvZR",
        "outputId": "7b07b365-84b2-4463-cc2d-e5b8e06de3b4",
        "colab": {
          "base_uri": "https://localhost:8080/",
          "height": 879
        }
      },
      "cell_type": "code",
      "source": [
        "num_bins = 10\n",
        "dataset.hist(bins=num_bins, figsize=(20,15))\n",
        "plt.savefig(\"hr_histogram_plots\")\n",
        "plt.show()"
      ],
      "execution_count": null,
      "outputs": [
        {
          "output_type": "display_data",
          "data": {
            "image/png": "[encoded data removed]",
            "text/plain": [
              "<Figure size 1440x1080 with 36 Axes>"
            ]
          },
          "metadata": {
            "tags": []
          }
        }
      ]
    },
    {
      "metadata": {
        "id": "LZG96lheU9rJ"
      },
      "cell_type": "markdown",
      "source": [
        "**Finding Missing Data**"
      ]
    },
    {
      "metadata": {
        "id": "d0S_i3omMY7o",
        "outputId": "ad2fcc7e-2370-4ec5-8990-9b9c0c89bce3",
        "colab": {
          "base_uri": "https://localhost:8080/",
          "height": 561
        }
      },
      "cell_type": "code",
      "source": [
        "dataset.isnull().sum()"
      ],
      "execution_count": null,
      "outputs": [
        {
          "output_type": "execute_result",
          "data": {
            "text/plain": [
              "mean radius                0\n",
              "mean texture               0\n",
              "mean perimeter             0\n",
              "mean area                  0\n",
              "mean smoothness            0\n",
              "mean compactness           0\n",
              "mean concavity             0\n",
              "mean concave points        0\n",
              "mean symmetry              0\n",
              "mean fractal dimension     0\n",
              "radius error               0\n",
              "texture error              0\n",
              "perimeter error            0\n",
              "area error                 0\n",
              "smoothness error           0\n",
              "compactness error          0\n",
              "concavity error            0\n",
              "concave points error       0\n",
              "symmetry error             0\n",
              "fractal dimension error    0\n",
              "worst radius               0\n",
              "worst texture              0\n",
              "worst perimeter            0\n",
              "worst area                 0\n",
              "worst smoothness           0\n",
              "worst compactness          0\n",
              "worst concavity            0\n",
              "worst concave points       0\n",
              "worst symmetry             0\n",
              "worst fractal dimension    0\n",
              "target                     0\n",
              "dtype: int64"
            ]
          },
          "metadata": {
            "tags": []
          },
          "execution_count": 50
        }
      ]
    },
    {
      "metadata": {
        "id": "wnzJB1zZVBjR",
        "outputId": "16537915-0bd3-4370-e900-6c69b3b18a46",
        "colab": {
          "base_uri": "https://localhost:8080/",
          "height": 561
        }
      },
      "cell_type": "code",
      "source": [
        "dataset.isna().sum()"
      ],
      "execution_count": null,
      "outputs": [
        {
          "output_type": "execute_result",
          "data": {
            "text/plain": [
              "mean radius                0\n",
              "mean texture               0\n",
              "mean perimeter             0\n",
              "mean area                  0\n",
              "mean smoothness            0\n",
              "mean compactness           0\n",
              "mean concavity             0\n",
              "mean concave points        0\n",
              "mean symmetry              0\n",
              "mean fractal dimension     0\n",
              "radius error               0\n",
              "texture error              0\n",
              "perimeter error            0\n",
              "area error                 0\n",
              "smoothness error           0\n",
              "compactness error          0\n",
              "concavity error            0\n",
              "concave points error       0\n",
              "symmetry error             0\n",
              "fractal dimension error    0\n",
              "worst radius               0\n",
              "worst texture              0\n",
              "worst perimeter            0\n",
              "worst area                 0\n",
              "worst smoothness           0\n",
              "worst compactness          0\n",
              "worst concavity            0\n",
              "worst concave points       0\n",
              "worst symmetry             0\n",
              "worst fractal dimension    0\n",
              "target                     0\n",
              "dtype: int64"
            ]
          },
          "metadata": {
            "tags": []
          },
          "execution_count": 51
        }
      ]
    },
    {
      "metadata": {
        "id": "TjEA_u2uVUjE"
      },
      "cell_type": "markdown",
      "source": [
        "**Splitting The Dataset**"
      ]
    },
    {
      "metadata": {
        "id": "gDD5XvFAVQ1G"
      },
      "cell_type": "code",
      "source": [
        "from sklearn.model_selection import train_test_split\n",
        "X_train, X_test, Y_train, Y_test = train_test_split(X, Y, test_size = 0.25, \n",
        "                                                    random_state = 0)"
      ],
      "execution_count": null,
      "outputs": []
    },
    {
      "metadata": {
        "id": "IE8v5ZLEVy0j"
      },
      "cell_type": "markdown",
      "source": [
        "**Feature Scaling**"
      ]
    },
    {
      "metadata": {
        "id": "x1Pu_7orVkav"
      },
      "cell_type": "code",
      "source": [
        "from sklearn.preprocessing import StandardScaler\n",
        "sc = StandardScaler()\n",
        "\n",
        "X_train = sc.fit_transform(X_train)\n",
        "X_test = sc.fit_transform(X_test)"
      ],
      "execution_count": null,
      "outputs": []
    },
    {
      "metadata": {
        "id": "0vqR-oXzWTI2"
      },
      "cell_type": "markdown",
      "source": [
        "**Using Logistic Regression To Train The Model**"
      ]
    },
    {
      "metadata": {
        "id": "E6kLH8OgWH5F",
        "outputId": "2fca972b-e74c-46e6-9341-b917df65a91f",
        "colab": {
          "base_uri": "https://localhost:8080/",
          "height": 119
        }
      },
      "cell_type": "code",
      "source": [
        "from sklearn.linear_model import LogisticRegression\n",
        "classifier = LogisticRegression(random_state = 0)\n",
        "\n",
        "classifier.fit(X_train, Y_train)"
      ],
      "execution_count": null,
      "outputs": [
        {
          "output_type": "stream",
          "text": [
            "/usr/local/lib/python3.6/dist-packages/sklearn/linear_model/logistic.py:433: FutureWarning: Default solver will be changed to 'lbfgs' in 0.22. Specify a solver to silence this warning.\n",
            "  FutureWarning)\n"
          ],
          "name": "stderr"
        },
        {
          "output_type": "execute_result",
          "data": {
            "text/plain": [
              "LogisticRegression(C=1.0, class_weight=None, dual=False, fit_intercept=True,\n",
              "          intercept_scaling=1, max_iter=100, multi_class='warn',\n",
              "          n_jobs=None, penalty='l2', random_state=0, solver='warn',\n",
              "          tol=0.0001, verbose=0, warm_start=False)"
            ]
          },
          "metadata": {
            "tags": []
          },
          "execution_count": 55
        }
      ]
    },
    {
      "metadata": {
        "id": "tHU4rlgVWnVF"
      },
      "cell_type": "code",
      "source": [
        "Y_pred = classifier.predict(X_test)"
      ],
      "execution_count": null,
      "outputs": []
    },
    {
      "metadata": {
        "id": "4SqPhmPBXKno"
      },
      "cell_type": "markdown",
      "source": [
        "**Compute Accuracy Of Logistic Regression**"
      ]
    },
    {
      "metadata": {
        "id": "C-TwenofcNYb"
      },
      "cell_type": "code",
      "source": [
        "import seaborn as sns\n",
        "def seaborn_plot_cm(cm, model_name):\n",
        "  sns.heatmap(cm, annot = True, fmt = '.2f', \n",
        "            xticklabels = ['Benign', 'Malignant'], yticklabels = ['Benign', 'Malignant'])\n",
        "  plt.ylabel('True Class')\n",
        "  plt.xlabel('Predicted Class')\n",
        "\n",
        "  plt.title(model_name)\n",
        "  plt.savefig(model_name)"
      ],
      "execution_count": null,
      "outputs": []
    },
    {
      "metadata": {
        "id": "EwIULy_wbAnk"
      },
      "cell_type": "code",
      "source": [
        "from sklearn.metrics import accuracy_score, confusion_matrix, classification_report\n",
        "def print_classification_report(classifier_name, Y_pred, Y_test):\n",
        "  print(classifier_name + ' Accuracy: {:.3f}'.format(accuracy_score(Y_test, \n",
        "                                                                   Y_pred)))\n",
        "\n",
        "  cm = confusion_matrix(Y_test, Y_pred)\n",
        "  print(classification_report(Y_test, Y_pred))\n",
        "  seaborn_plot_cm(cm, classifier_name)"
      ],
      "execution_count": null,
      "outputs": []
    },
    {
      "metadata": {
        "id": "Auf7EEW2XJ97",
        "outputId": "dd77656e-a914-4033-b437-381e1543f359",
        "colab": {
          "base_uri": "https://localhost:8080/",
          "height": 546
        }
      },
      "cell_type": "code",
      "source": [
        "print_classification_report('Logistic Regression', Y_pred, Y_test)"
      ],
      "execution_count": null,
      "outputs": [
        {
          "output_type": "stream",
          "text": [
            "Logistic Regression Accuracy: 0.951\n",
            "              precision    recall  f1-score   support\n",
            "\n",
            "           0       0.93      0.94      0.93        53\n",
            "           1       0.97      0.96      0.96        90\n",
            "\n",
            "   micro avg       0.95      0.95      0.95       143\n",
            "   macro avg       0.95      0.95      0.95       143\n",
            "weighted avg       0.95      0.95      0.95       143\n",
            "\n"
          ],
          "name": "stdout"
        },
        {
          "output_type": "display_data",
          "data": {
            "image/png": "[encoded data removed]",
            "text/plain": [
              "<Figure size 576x396 with 2 Axes>"
            ]
          },
          "metadata": {
            "tags": []
          }
        }
      ]
    },
    {
      "metadata": {
        "id": "PGIfVnOTaGkC"
      },
      "cell_type": "markdown",
      "source": [
        "**Using KNearest Neighbors To Train The Model**"
      ]
    },
    {
      "metadata": {
        "id": "2x9wdEeJZX9R",
        "outputId": "82068e5b-cba0-4a25-8b27-78d771a977bb",
        "colab": {
          "base_uri": "https://localhost:8080/",
          "height": 68
        }
      },
      "cell_type": "code",
      "source": [
        "from sklearn.neighbors import KNeighborsClassifier\n",
        "kneighbors_classifier = KNeighborsClassifier(n_neighbors = 5, \n",
        "                                             metric = 'minkowski', p = 2)\n",
        "\n",
        "kneighbors_classifier.fit(X_train, Y_train)"
      ],
      "execution_count": null,
      "outputs": [
        {
          "output_type": "execute_result",
          "data": {
            "text/plain": [
              "KNeighborsClassifier(algorithm='auto', leaf_size=30, metric='minkowski',\n",
              "           metric_params=None, n_jobs=None, n_neighbors=5, p=2,\n",
              "           weights='uniform')"
            ]
          },
          "metadata": {
            "tags": []
          },
          "execution_count": 74
        }
      ]
    },
    {
      "metadata": {
        "id": "7wWeSq5saZvk"
      },
      "cell_type": "code",
      "source": [
        "kNeighbors_Y_pred = kneighbors_classifier.predict(X_test)"
      ],
      "execution_count": null,
      "outputs": []
    },
    {
      "metadata": {
        "id": "JUdDzbR1a68i",
        "outputId": "af2a7302-29ea-4ba8-8b1c-86017b4ce658",
        "colab": {
          "base_uri": "https://localhost:8080/",
          "height": 546
        }
      },
      "cell_type": "code",
      "source": [
        "print_classification_report('KNeighbors', kNeighbors_Y_pred, Y_test)"
      ],
      "execution_count": null,
      "outputs": [
        {
          "output_type": "stream",
          "text": [
            "KNeighbors Accuracy: 0.951\n",
            "              precision    recall  f1-score   support\n",
            "\n",
            "           0       0.98      0.89      0.93        53\n",
            "           1       0.94      0.99      0.96        90\n",
            "\n",
            "   micro avg       0.95      0.95      0.95       143\n",
            "   macro avg       0.96      0.94      0.95       143\n",
            "weighted avg       0.95      0.95      0.95       143\n",
            "\n"
          ],
          "name": "stdout"
        },
        {
          "output_type": "display_data",
          "data": {
            "image/png": "[encoded data removed]",
            "text/plain": [
              "<Figure size 576x396 with 2 Axes>"
            ]
          },
          "metadata": {
            "tags": []
          }
        }
      ]
    },
    {
      "metadata": {
        "id": "zNp9dKNzcblA"
      },
      "cell_type": "markdown",
      "source": [
        "**Using SVM To Train The Model**"
      ]
    },
    {
      "metadata": {
        "id": "NNOO5mOEbrMp",
        "outputId": "624ee55a-5152-4cb8-8e80-1191c8a91c82",
        "colab": {
          "base_uri": "https://localhost:8080/",
          "height": 85
        }
      },
      "cell_type": "code",
      "source": [
        "from sklearn.svm import SVC\n",
        "svm_classifier = SVC(kernel = 'linear', random_state = 0)\n",
        "svm_classifier.fit(X_train, Y_train)"
      ],
      "execution_count": null,
      "outputs": [
        {
          "output_type": "execute_result",
          "data": {
            "text/plain": [
              "SVC(C=1.0, cache_size=200, class_weight=None, coef0=0.0,\n",
              "  decision_function_shape='ovr', degree=3, gamma='auto_deprecated',\n",
              "  kernel='linear', max_iter=-1, probability=False, random_state=0,\n",
              "  shrinking=True, tol=0.001, verbose=False)"
            ]
          },
          "metadata": {
            "tags": []
          },
          "execution_count": 86
        }
      ]
    },
    {
      "metadata": {
        "id": "_y5nIG08c2vA"
      },
      "cell_type": "code",
      "source": [
        "svm_Y_pred = svm_classifier.predict(X_test)"
      ],
      "execution_count": null,
      "outputs": []
    },
    {
      "metadata": {
        "id": "avOafbzpc7wI",
        "outputId": "bd9d2fc0-ccf3-4980-cb71-3cc0797aaeeb",
        "colab": {
          "base_uri": "https://localhost:8080/",
          "height": 546
        }
      },
      "cell_type": "code",
      "source": [
        "print_classification_report('SVM', svm_Y_pred, Y_test)"
      ],
      "execution_count": null,
      "outputs": [
        {
          "output_type": "stream",
          "text": [
            "SVM Accuracy: 0.958\n",
            "              precision    recall  f1-score   support\n",
            "\n",
            "           0       0.93      0.96      0.94        53\n",
            "           1       0.98      0.96      0.97        90\n",
            "\n",
            "   micro avg       0.96      0.96      0.96       143\n",
            "   macro avg       0.95      0.96      0.96       143\n",
            "weighted avg       0.96      0.96      0.96       143\n",
            "\n"
          ],
          "name": "stdout"
        },
        {
          "output_type": "display_data",
          "data": {
            "image/png": "[encoded data removed]",
            "text/plain": [
              "<Figure size 576x396 with 2 Axes>"
            ]
          },
          "metadata": {
            "tags": []
          }
        }
      ]
    },
    {
      "metadata": {
        "id": "mHMQ4FsMdXRk"
      },
      "cell_type": "markdown",
      "source": [
        "**Using Gaussian Naive Bayes To Train The Model**"
      ]
    },
    {
      "metadata": {
        "id": "2e22TZNIc_K5",
        "outputId": "76812eba-0f7d-4ac1-c341-60de5b9945ed",
        "colab": {
          "base_uri": "https://localhost:8080/",
          "height": 34
        }
      },
      "cell_type": "code",
      "source": [
        "from sklearn.naive_bayes import GaussianNB\n",
        "gbNB_classifier = GaussianNB()\n",
        "\n",
        "gbNB_classifier.fit(X_train, Y_train)"
      ],
      "execution_count": null,
      "outputs": [
        {
          "output_type": "execute_result",
          "data": {
            "text/plain": [
              "GaussianNB(priors=None, var_smoothing=1e-09)"
            ]
          },
          "metadata": {
            "tags": []
          },
          "execution_count": 93
        }
      ]
    },
    {
      "metadata": {
        "id": "NyKCdw_5doc9",
        "outputId": "c6fc65f7-40be-4002-cc25-bfc1d298f66e",
        "colab": {
          "base_uri": "https://localhost:8080/",
          "height": 546
        }
      },
      "cell_type": "code",
      "source": [
        "gb_NB_Y_pred = gbNB_classifier.predict(X_test)\n",
        "print_classification_report('Gaussian Naive Bayes', gb_NB_Y_pred, Y_test)"
      ],
      "execution_count": null,
      "outputs": [
        {
          "output_type": "stream",
          "text": [
            "Gaussian Naive Bayes Accuracy: 0.944\n",
            "              precision    recall  f1-score   support\n",
            "\n",
            "           0       0.94      0.91      0.92        53\n",
            "           1       0.95      0.97      0.96        90\n",
            "\n",
            "   micro avg       0.94      0.94      0.94       143\n",
            "   macro avg       0.94      0.94      0.94       143\n",
            "weighted avg       0.94      0.94      0.94       143\n",
            "\n"
          ],
          "name": "stdout"
        },
        {
          "output_type": "display_data",
          "data": {
            "image/png": "[encoded data removed]",
            "text/plain": [
              "<Figure size 576x396 with 2 Axes>"
            ]
          },
          "metadata": {
            "tags": []
          }
        }
      ]
    },
    {
      "metadata": {
        "id": "Yxf5gNVDd_Xg"
      },
      "cell_type": "markdown",
      "source": [
        "**Using Decision Tree To Train The Model**"
      ]
    },
    {
      "metadata": {
        "id": "a-VnsglId4nF",
        "outputId": "cc8f6283-3efb-41f9-cbc0-4fe74112632f",
        "colab": {
          "base_uri": "https://localhost:8080/",
          "height": 546
        }
      },
      "cell_type": "code",
      "source": [
        "from sklearn.tree import DecisionTreeClassifier\n",
        "dc_tree_classifier = DecisionTreeClassifier()\n",
        "\n",
        "dc_tree_classifier.fit(X_train, Y_train)\n",
        "\n",
        "dc_tree_Y_pred = dc_tree_classifier.predict(X_test)\n",
        "print_classification_report('Decision Tree', dc_tree_Y_pred, Y_test)"
      ],
      "execution_count": null,
      "outputs": [
        {
          "output_type": "stream",
          "text": [
            "Decision Tree Accuracy: 0.916\n",
            "              precision    recall  f1-score   support\n",
            "\n",
            "           0       0.86      0.92      0.89        53\n",
            "           1       0.95      0.91      0.93        90\n",
            "\n",
            "   micro avg       0.92      0.92      0.92       143\n",
            "   macro avg       0.91      0.92      0.91       143\n",
            "weighted avg       0.92      0.92      0.92       143\n",
            "\n"
          ],
          "name": "stdout"
        },
        {
          "output_type": "display_data",
          "data": {
            "image/png": "[encoded data removed]",
            "text/plain": [
              "<Figure size 576x396 with 2 Axes>"
            ]
          },
          "metadata": {
            "tags": []
          }
        }
      ]
    },
    {
      "metadata": {
        "id": "5KcFm1V1ebE_"
      },
      "cell_type": "markdown",
      "source": [
        "**Using Random Forest To Train The Model**"
      ]
    },
    {
      "metadata": {
        "id": "LmOAvPzseWKm",
        "outputId": "8063f8dd-7558-4742-dbcd-abfdd15e3ff0",
        "colab": {
          "base_uri": "https://localhost:8080/",
          "height": 119
        }
      },
      "cell_type": "code",
      "source": [
        "from sklearn.ensemble import RandomForestClassifier\n",
        "rd_forest_classifier = RandomForestClassifier(n_estimators = 10, \n",
        "                                              criterion = 'entropy', \n",
        "                                              random_state = 0)\n",
        "\n",
        "rd_forest_classifier.fit(X_train, Y_train)"
      ],
      "execution_count": null,
      "outputs": [
        {
          "output_type": "execute_result",
          "data": {
            "text/plain": [
              "RandomForestClassifier(bootstrap=True, class_weight=None, criterion='entropy',\n",
              "            max_depth=None, max_features='auto', max_leaf_nodes=None,\n",
              "            min_impurity_decrease=0.0, min_impurity_split=None,\n",
              "            min_samples_leaf=1, min_samples_split=2,\n",
              "            min_weight_fraction_leaf=0.0, n_estimators=10, n_jobs=None,\n",
              "            oob_score=False, random_state=0, verbose=0, warm_start=False)"
            ]
          },
          "metadata": {
            "tags": []
          },
          "execution_count": 98
        }
      ]
    },
    {
      "metadata": {
        "id": "wsrLbOlfew_1",
        "outputId": "15d1c7dd-8ee5-4883-a4f9-b0ffeca3cde3",
        "colab": {
          "base_uri": "https://localhost:8080/",
          "height": 546
        }
      },
      "cell_type": "code",
      "source": [
        "rd_forest_Y_pred = rd_forest_classifier.predict(X_test)\n",
        "print_classification_report('Random Forest', rd_forest_Y_pred, Y_test)"
      ],
      "execution_count": null,
      "outputs": [
        {
          "output_type": "stream",
          "text": [
            "Random Forest Accuracy: 0.958\n",
            "              precision    recall  f1-score   support\n",
            "\n",
            "           0       0.91      0.98      0.95        53\n",
            "           1       0.99      0.94      0.97        90\n",
            "\n",
            "   micro avg       0.96      0.96      0.96       143\n",
            "   macro avg       0.95      0.96      0.96       143\n",
            "weighted avg       0.96      0.96      0.96       143\n",
            "\n"
          ],
          "name": "stdout"
        },
        {
          "output_type": "display_data",
          "data": {
            "image/png": "[encoded data removed]",
            "text/plain": [
              "<Figure size 576x396 with 2 Axes>"
            ]
          },
          "metadata": {
            "tags": []
          }
        }
      ]
    },
    {
      "metadata": {
        "id": "fuLM5-cCe8k9"
      },
      "cell_type": "code",
      "source": [],
      "execution_count": null,
      "outputs": []
    }
  ]
}